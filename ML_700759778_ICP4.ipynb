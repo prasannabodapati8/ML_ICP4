{
  "cells": [
    {
      "cell_type": "markdown",
      "metadata": {
        "id": "wxZc7jY1EmeS"
      },
      "source": [
        "Principal Component Analysis\n",
        "a. Apply PCA on CC dataset.\n",
        "b. Apply k-means algorithm on the PCA result and report your observation if the silhouette score has\n",
        "improved or not?\n",
        "c. Perform Scaling+PCA+K-Means and report performance.\n"
      ]
    },
    {
      "cell_type": "code",
      "execution_count": 2,
      "metadata": {
        "colab": {
          "base_uri": "https://localhost:8080/"
        },
        "id": "t1LWjOTd_LcG",
        "outputId": "3d881c46-1c43-482f-baab-aa2371c931b7"
      },
      "outputs": [
        {
          "output_type": "stream",
          "name": "stderr",
          "text": [
            "/usr/local/lib/python3.10/dist-packages/sklearn/cluster/_kmeans.py:870: FutureWarning: The default value of `n_init` will change from 10 to 'auto' in 1.4. Set the value of `n_init` explicitly to suppress the warning\n",
            "  warnings.warn(\n",
            "/usr/local/lib/python3.10/dist-packages/sklearn/cluster/_kmeans.py:870: FutureWarning: The default value of `n_init` will change from 10 to 'auto' in 1.4. Set the value of `n_init` explicitly to suppress the warning\n",
            "  warnings.warn(\n"
          ]
        },
        {
          "output_type": "stream",
          "name": "stdout",
          "text": [
            "Silhouette Score (PCA): 0.4774953485130042\n",
            "Silhouette Score (Scaling + PCA): 0.25421032809181465\n"
          ]
        }
      ],
      "source": [
        "import pandas as pd\n",
        "from sklearn.decomposition import PCA\n",
        "from sklearn.impute import SimpleImputer\n",
        "from sklearn.cluster import KMeans\n",
        "from sklearn.metrics import silhouette_score\n",
        "from sklearn.preprocessing import StandardScaler\n",
        "import numpy as np\n",
        "\n",
        "def load_data(file_path):\n",
        "    # Load the dataset\n",
        "    cc_data = pd.read_csv('CC GENERAL.csv')\n",
        "    return cc_data\n",
        "\n",
        "def preprocess_data(cc_data):\n",
        "    # Drop the 'CUST_ID' column\n",
        "    cc_data = cc_data.drop(columns=['CUST_ID'])\n",
        "\n",
        "    # Handle missing values by filling them with the mean of the column\n",
        "    imputer = SimpleImputer(strategy='mean')\n",
        "    cc_data_imputed = imputer.fit_transform(cc_data)\n",
        "\n",
        "    return cc_data_imputed\n",
        "\n",
        "def apply_pca(data, variance_threshold=0.95):\n",
        "    pca = PCA()\n",
        "    data_pca = pca.fit_transform(data)\n",
        "    cumulative_variance = np.cumsum(pca.explained_variance_ratio_)\n",
        "    num_components = np.argmax(cumulative_variance >= variance_threshold) + 1\n",
        "    pca = PCA(n_components=num_components)\n",
        "    data_pca_reduced = pca.fit_transform(data)\n",
        "\n",
        "    return data_pca_reduced, num_components\n",
        "\n",
        "def kmeans_clustering(data, n_clusters=3):\n",
        "    kmeans = KMeans(n_clusters=n_clusters, random_state=42)\n",
        "    labels = kmeans.fit_predict(data)\n",
        "    silhouette_avg = silhouette_score(data, labels)\n",
        "\n",
        "    return silhouette_avg\n",
        "\n",
        "def main(file_path):\n",
        "    cc_data = load_data(file_path)\n",
        "    cc_data_imputed = preprocess_data(cc_data)\n",
        "\n",
        "    # Apply PCA\n",
        "    cc_data_pca_reduced, num_components = apply_pca(cc_data_imputed)\n",
        "    silhouette_avg_pca = kmeans_clustering(cc_data_pca_reduced)\n",
        "\n",
        "    # Perform Scaling + PCA + K-means\n",
        "    scaler = StandardScaler()\n",
        "    cc_data_scaled = scaler.fit_transform(cc_data_imputed)\n",
        "    cc_data_scaled_pca, _ = apply_pca(cc_data_scaled, variance_threshold=0.95)\n",
        "    silhouette_avg_scaled_pca = kmeans_clustering(cc_data_scaled_pca)\n",
        "\n",
        "    print(f\"Silhouette Score (PCA): {silhouette_avg_pca}\")\n",
        "    print(f\"Silhouette Score (Scaling + PCA): {silhouette_avg_scaled_pca}\")\n",
        "\n",
        "if __name__ == \"__main__\":\n",
        "    file_path = '/mnt/data/CC GENERAL.csv'  # Adjust the file path as needed\n",
        "    main(file_path)\n"
      ]
    },
    {
      "cell_type": "markdown",
      "metadata": {
        "id": "9uhe1GnHEtt5"
      },
      "source": [
        "Use pd_speech_features.csv\n",
        "a. Perform Scaling\n",
        "b. Apply PCA (k=3)\n",
        "c. Use SVM to report performance"
      ]
    },
    {
      "cell_type": "code",
      "execution_count": 1,
      "metadata": {
        "colab": {
          "base_uri": "https://localhost:8080/"
        },
        "id": "knX4kvLrCt0-",
        "outputId": "4a22ae95-6f68-4da4-c095-499b0625a3e8"
      },
      "outputs": [
        {
          "output_type": "stream",
          "name": "stdout",
          "text": [
            "Mean Accuracy: 0.7751\n",
            "Standard Deviation: 0.0199\n"
          ]
        }
      ],
      "source": [
        "import pandas as pd\n",
        "from sklearn.preprocessing import StandardScaler\n",
        "from sklearn.decomposition import PCA\n",
        "from sklearn.svm import SVC\n",
        "from sklearn.model_selection import cross_val_score\n",
        "\n",
        "# Load the dataset\n",
        "file_path = 'pd_speech_features.csv'\n",
        "df = pd.read_csv(file_path)\n",
        "\n",
        "# Separate features and target\n",
        "X = df.drop(columns=['class'])\n",
        "y = df['class']\n",
        "\n",
        "# Standardize the features\n",
        "scaler = StandardScaler()\n",
        "X_scaled = scaler.fit_transform(X)\n",
        "\n",
        "# Apply PCA\n",
        "pca = PCA(n_components=3)\n",
        "X_pca = pca.fit_transform(X_scaled)\n",
        "\n",
        "# Train and evaluate an SVM model using cross-validation\n",
        "svm = SVC(kernel='linear', random_state=42)\n",
        "scores = cross_val_score(svm, X_pca, y, cv=5)\n",
        "\n",
        "# Report the performance\n",
        "mean_score = scores.mean()\n",
        "std_score = scores.std()\n",
        "\n",
        "print(f\"Mean Accuracy: {mean_score:.4f}\")\n",
        "print(f\"Standard Deviation: {std_score:.4f}\")"
      ]
    },
    {
      "cell_type": "markdown",
      "metadata": {
        "id": "-C5J8bN4Eyyu"
      },
      "source": [
        "Apply Linear Discriminant Analysis (LDA) on Iris.csv dataset to reduce dimensionality of data tok=2."
      ]
    },
    {
      "cell_type": "code",
      "execution_count": 3,
      "metadata": {
        "colab": {
          "base_uri": "https://localhost:8080/"
        },
        "id": "a5VZ4-rqDs60",
        "outputId": "16332a01-4739-41bd-d1db-579f4df20fae"
      },
      "outputs": [
        {
          "output_type": "stream",
          "name": "stdout",
          "text": [
            "       LDA1      LDA2        Class\n",
            "0  8.084953 -0.328454  Iris-setosa\n",
            "1  7.147163  0.755473  Iris-setosa\n",
            "2  7.511378  0.238078  Iris-setosa\n",
            "3  6.837676  0.642885  Iris-setosa\n",
            "4  8.157814 -0.540639  Iris-setosa\n"
          ]
        }
      ],
      "source": [
        "import pandas as pd\n",
        "from sklearn.discriminant_analysis import LinearDiscriminantAnalysis\n",
        "\n",
        "# Load the dataset\n",
        "file_path_iris = 'Iris.csv'\n",
        "iris_data = pd.read_csv(file_path_iris)\n",
        "\n",
        "# Separate features and labels\n",
        "X = iris_data.iloc[:, 1:-1]  # Features (excluding the first column and the last column)\n",
        "y = iris_data.iloc[:, -1]    # Labels (last column)\n",
        "\n",
        "# Apply LDA\n",
        "lda = LinearDiscriminantAnalysis(n_components=2)\n",
        "X_lda = lda.fit_transform(X, y)\n",
        "\n",
        "# Create a DataFrame with LDA results\n",
        "df_lda = pd.DataFrame(data=X_lda, columns=['LDA1', 'LDA2'])\n",
        "df_lda['Class'] = y\n",
        "\n",
        "# Save the LDA results to a CSV file\n",
        "df_lda.to_csv('Iris_LDA_Result.csv', index=False)\n",
        "\n",
        "df_lda.head()\n",
        "import pandas as pd\n",
        "from sklearn.discriminant_analysis import LinearDiscriminantAnalysis\n",
        "\n",
        "# Load the dataset\n",
        "iris_data = pd.read_csv('Iris.csv')\n",
        "\n",
        "# Separate features and labels\n",
        "X = iris_data.iloc[:, 1:-1]  # Features (excluding the first column and the last column)\n",
        "y = iris_data.iloc[:, -1]    # Labels (last column)\n",
        "\n",
        "# Apply LDA\n",
        "lda = LinearDiscriminantAnalysis(n_components=2)\n",
        "X_lda = lda.fit_transform(X, y)\n",
        "\n",
        "# Create a DataFrame with LDA results\n",
        "df_lda = pd.DataFrame(data=X_lda, columns=['LDA1', 'LDA2'])\n",
        "df_lda['Class'] = y\n",
        "\n",
        "# Save the LDA results to a CSV file\n",
        "df_lda.to_csv('Iris_LDA_Result.csv', index=False)\n",
        "\n",
        "# Display the first few rows of the LDA result\n",
        "print(df_lda.head())"
      ]
    },
    {
      "cell_type": "markdown",
      "metadata": {
        "id": "PHacjk93Eler"
      },
      "source": [
        "Briefly identify the difference between PCA and LDA\n"
      ]
    },
    {
      "cell_type": "markdown",
      "metadata": {
        "id": "X1CRnEi5FAgs"
      },
      "source": [
        "Both PCA and LDA are dimensionality reduction techniques, but they have different goals and methods:\n",
        "\n",
        "Principal Component Analysis (PCA):\n",
        "-PCA transforms into a new set of uncorrelated variables called principal components.These components capture the maximum variance in the data.\n",
        "-unsupervised technique.\n",
        "-PCA maximizes the variance captured in the data without considering class separation.\n",
        "\n",
        "Linear Discriminant Analysis (LDA):\n",
        "-aims to reduce the dimensionality of the data while maximizing the separation between different classes. It seeks to project the data onto a lower-dimensional space with good class-separability.\n",
        "-supervised technique,considers class labels to find the best discriminant features.\n",
        "-LDA maximizes the separation between different classes in the lower-dimensional space."
      ]
    }
  ],
  "metadata": {
    "colab": {
      "provenance": []
    },
    "kernelspec": {
      "display_name": "Python 3",
      "name": "python3"
    },
    "language_info": {
      "name": "python",
      "version": "3.11.5"
    }
  },
  "nbformat": 4,
  "nbformat_minor": 0
}